{
 "cells": [
  {
   "cell_type": "markdown",
   "metadata": {},
   "source": [
    "Just some basic playing with matrices and plots in numpy and matplotlib.\n",
    "\n",
    "First, some boilerplate to import basics and shorten names. I start pretty much everything with this."
   ]
  },
  {
   "cell_type": "code",
   "execution_count": 2,
   "metadata": {},
   "outputs": [],
   "source": [
    "%matplotlib inline\n",
    "import matplotlib\n",
    "import numpy as np\n",
    "import matplotlib.pyplot as plt\n",
    "import numpy.random as rng\n",
    "np.set_printoptions(precision = 2)"
   ]
  },
  {
   "cell_type": "markdown",
   "metadata": {},
   "source": [
    "Random matrices are easy, and you can ask any numpy array such as this its shape:"
   ]
  },
  {
   "cell_type": "code",
   "execution_count": 3,
   "metadata": {},
   "outputs": [
    {
     "name": "stdout",
     "output_type": "stream",
     "text": [
      "[[ 0.68  0.18  0.82  0.83  0.93  0.5 ]\n",
      " [ 0.32  0.5   0.28  0.03  0.54  0.67]\n",
      " [ 0.28  0.61  0.31  0.94  0.55  0.09]\n",
      " [ 0.2   0.17  0.93  0.48  0.2   0.32]]\n",
      "(4, 6)\n"
     ]
    }
   ],
   "source": [
    "A = rng.random((4,6))\n",
    "print(A)\n",
    "print(A.shape)"
   ]
  },
  {
   "cell_type": "markdown",
   "metadata": {},
   "source": [
    "Think vectors and matrices instead of loops:"
   ]
  },
  {
   "cell_type": "code",
   "execution_count": null,
   "metadata": {
    "collapsed": true
   },
   "outputs": [],
   "source": [
    "B = 1*(A > 0.25)\n",
    "print(B)"
   ]
  },
  {
   "cell_type": "code",
   "execution_count": null,
   "metadata": {
    "collapsed": true
   },
   "outputs": [],
   "source": [
    "# matrix multiplication is a \"dot product\"\n",
    "C = rng.random((5,4))\n",
    "D = np.dot(C,B)\n",
    "print(D)"
   ]
  },
  {
   "cell_type": "markdown",
   "metadata": {},
   "source": [
    "Make pictures of it instead of numbers:"
   ]
  },
  {
   "cell_type": "code",
   "execution_count": null,
   "metadata": {
    "collapsed": true
   },
   "outputs": [],
   "source": [
    "plt.imshow(D, interpolation='nearest', cmap='hot')\n",
    "plt.colorbar()"
   ]
  },
  {
   "cell_type": "code",
   "execution_count": null,
   "metadata": {
    "collapsed": true
   },
   "outputs": [],
   "source": [
    "plt.plot(D)"
   ]
  },
  {
   "cell_type": "markdown",
   "metadata": {},
   "source": [
    "You can \"slice\" arrays, like this:"
   ]
  },
  {
   "cell_type": "code",
   "execution_count": 7,
   "metadata": {},
   "outputs": [
    {
     "name": "stdout",
     "output_type": "stream",
     "text": [
      "[[ 0.39  0.08  0.24  0.76]\n",
      " [ 0.46  0.63  0.54  0.84]\n",
      " [ 0.53  0.37  0.91  0.59]\n",
      " [ 0.56  0.29  0.18  0.65]\n",
      " [ 0.93  0.43  0.16  0.99]]\n"
     ]
    }
   ],
   "source": [
    "print(C)"
   ]
  },
  {
   "cell_type": "code",
   "execution_count": 8,
   "metadata": {},
   "outputs": [
    {
     "name": "stdout",
     "output_type": "stream",
     "text": [
      "[[ 0.46  0.63  0.54  0.84]\n",
      " [ 0.53  0.37  0.91  0.59]]\n"
     ]
    }
   ],
   "source": [
    "print (C[1:3])"
   ]
  },
  {
   "cell_type": "markdown",
   "metadata": {},
   "source": [
    "And of course there's stuff like..."
   ]
  },
  {
   "cell_type": "code",
   "execution_count": 9,
   "metadata": {},
   "outputs": [
    {
     "name": "stdout",
     "output_type": "stream",
     "text": [
      "[ 0.37  0.62  0.6   0.42  0.63]\n"
     ]
    }
   ],
   "source": [
    "print (np.mean(C,axis=1))"
   ]
  },
  {
   "cell_type": "code",
   "execution_count": 10,
   "metadata": {},
   "outputs": [
    {
     "name": "stdout",
     "output_type": "stream",
     "text": [
      "[[4 3 1 2]\n",
      " [4 1 4 2]\n",
      " [2 1 4 2]\n",
      " [2 3 4 2]]\n",
      "[[  1.39e-17   5.00e-01  -5.00e-01   0.00e+00]\n",
      " [  0.00e+00   0.00e+00  -5.00e-01   5.00e-01]\n",
      " [ -3.33e-01   3.33e-01  -3.33e-01   3.33e-01]\n",
      " [  6.67e-01  -1.17e+00   1.92e+00  -9.17e-01]]\n",
      "[[ 4.  3.  1.  2.]\n",
      " [ 4.  1.  4.  2.]\n",
      " [ 2.  1.  4.  2.]\n",
      " [ 2.  3.  4.  2.]]\n"
     ]
    }
   ],
   "source": [
    "from numpy.linalg import inv\n",
    "D = rng.randint(1,5, size=(4,4))\n",
    "print (D)\n",
    "print (inv(D))\n",
    "print (inv(inv(D)))"
   ]
  },
  {
   "cell_type": "markdown",
   "metadata": {},
   "source": [
    "### What about some neurons"
   ]
  },
  {
   "cell_type": "code",
   "execution_count": 11,
   "metadata": {
    "collapsed": true
   },
   "outputs": [],
   "source": [
    "def sigmoid( phi ):\n",
    "    y = 1.0/ (1.0 + np.exp(phi))\n",
    "    return y"
   ]
  },
  {
   "cell_type": "code",
   "execution_count": 13,
   "metadata": {},
   "outputs": [
    {
     "name": "stdout",
     "output_type": "stream",
     "text": [
      "0.000173645178745\n"
     ]
    }
   ],
   "source": [
    "x = np.array([1,2,5,3,4])\n",
    "w = rng.random(x.shape) # just making it the same shape as the input here\n",
    "phi = np.dot(x, w)\n",
    "print( sigmoid(phi) )"
   ]
  },
  {
   "cell_type": "code",
   "execution_count": 15,
   "metadata": {},
   "outputs": [
    {
     "name": "stdout",
     "output_type": "stream",
     "text": [
      "[ 0.14  0.13  0.21  0.12  0.23  0.07  0.24  0.29  0.13  0.23]\n"
     ]
    }
   ],
   "source": [
    "# Or we can do a bunch at once, like a training set...\n",
    "npats, nins = 10, 5\n",
    "x = rng.randint(0,2,(npats, nins))  # ie. each row in an input vector\n",
    "phi = np.dot(x, w)\n",
    "print (sigmoid(phi))"
   ]
  },
  {
   "cell_type": "markdown",
   "metadata": {},
   "source": [
    "You'll often have to just look at shapes of matrices to get things aligned for dot products:"
   ]
  },
  {
   "cell_type": "code",
   "execution_count": 16,
   "metadata": {},
   "outputs": [
    {
     "name": "stdout",
     "output_type": "stream",
     "text": [
      "(10, 5) (5,)\n"
     ]
    }
   ],
   "source": [
    "print(x.shape, w.shape)"
   ]
  },
  {
   "cell_type": "code",
   "execution_count": null,
   "metadata": {
    "collapsed": true
   },
   "outputs": [],
   "source": []
  },
  {
   "cell_type": "code",
   "execution_count": null,
   "metadata": {
    "collapsed": true
   },
   "outputs": [],
   "source": []
  }
 ],
 "metadata": {
  "kernelspec": {
   "display_name": "Python 3",
   "language": "python",
   "name": "python3"
  },
  "language_info": {
   "codemirror_mode": {
    "name": "ipython",
    "version": 3
   },
   "file_extension": ".py",
   "mimetype": "text/x-python",
   "name": "python",
   "nbconvert_exporter": "python",
   "pygments_lexer": "ipython3",
   "version": "3.6.1"
  }
 },
 "nbformat": 4,
 "nbformat_minor": 1
}
