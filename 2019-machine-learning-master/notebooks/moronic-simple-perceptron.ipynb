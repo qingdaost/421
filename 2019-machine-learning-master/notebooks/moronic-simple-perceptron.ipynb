{
 "cells": [
  {
   "cell_type": "code",
   "execution_count": 1,
   "metadata": {
    "collapsed": true
   },
   "outputs": [],
   "source": [
    "%matplotlib inline\n",
    "import numpy as np\n",
    "import numpy.random as rng\n",
    "import pylab as pl"
   ]
  },
  {
   "cell_type": "code",
   "execution_count": 2,
   "metadata": {},
   "outputs": [
    {
     "name": "stdout",
     "output_type": "stream",
     "text": [
      "[[ 1.  0.  0.]\n",
      " [ 1.  1.  0.]\n",
      " [ 1.  0.  1.]\n",
      " [ 1.  1.  1.]]\n",
      "[[0]\n",
      " [0]\n",
      " [0]\n",
      " [1]]\n"
     ]
    }
   ],
   "source": [
    "X = np.array([[0,0],[1,0],[0,1],[1,1]])\n",
    "X = np.concatenate((np.ones((X.shape[0],1)), X), axis=1) # adds a \"bias input\" which is always 1\n",
    "Y = np.array([[0,0,0,1]]).T\n",
    "print(X)\n",
    "print(Y)"
   ]
  },
  {
   "cell_type": "code",
   "execution_count": 261,
   "metadata": {},
   "outputs": [],
   "source": [
    "def show():\n",
    "    for i,x in enumerate(X):\n",
    "        if Y[i] == 1: pl.plot(x[1],x[2],'o',color='blue',markersize=20)\n",
    "        if Y[i] == 0: pl.plot(x[1],x[2],'o',color='red',markersize=20)\n",
    "        if (out[i] != Y[i]): pl.text(x[1]-0.2,x[2]+0.2,'WRONG') \n",
    "        \n",
    "    pl.plot([0, -w[0]/w[1]], [-w[0]/w[2], 0], '-k') # cheap & cheerful, only shows part of decision borderline\n",
    "    \n",
    "        \n",
    "    pl.axis((-1,2,-.5,1.5))\n",
    "    pl.show()"
   ]
  },
  {
   "cell_type": "code",
   "execution_count": 262,
   "metadata": {},
   "outputs": [
    {
     "name": "stdout",
     "output_type": "stream",
     "text": [
      "[[ 0.46254105 -0.8862596  -2.48879107]]\n"
     ]
    }
   ],
   "source": [
    "# Initialisation\n",
    "w = rng.randn(3,1)\n",
    "print(w.T) # the .T gives the transpose\n",
    "rate = 0.1 # remarkably, the learning rate doesn't matter for a strict threshold perceptron!"
   ]
  },
  {
   "cell_type": "code",
   "execution_count": 295,
   "metadata": {},
   "outputs": [
    {
     "data": {
      "image/png": "[encoded data removed]",
      "text/plain": [
       "<matplotlib.figure.Figure at 0x52897d8>"
      ]
     },
     "metadata": {},
     "output_type": "display_data"
    }
   ],
   "source": [
    "# Use Ctrl+ENTER on this cell to \"see the perceptron learning\"...\n",
    "out = np.where(np.dot(X,w) >0.0,1,0)\n",
    "#print(out)\n",
    "show()\n",
    "w = w + rate * np.atleast_2d(np.sum((Y-out)*X, axis=0)).T   # one step of learning"
   ]
  },
  {
   "cell_type": "code",
   "execution_count": 173,
   "metadata": {
    "collapsed": true
   },
   "outputs": [],
   "source": [
    "#\n",
    "#\n",
    "#\n",
    "#\n",
    "#\n",
    "#\n",
    "#\n",
    "#\n",
    "#\n",
    "#\n",
    "#\n",
    "#\n",
    "#\n",
    "#"
   ]
  }
 ],
 "metadata": {
  "kernelspec": {
   "display_name": "Python 3",
   "language": "python",
   "name": "python3"
  },
  "language_info": {
   "codemirror_mode": {
    "name": "ipython",
    "version": 3
   },
   "file_extension": ".py",
   "mimetype": "text/x-python",
   "name": "python",
   "nbconvert_exporter": "python",
   "pygments_lexer": "ipython3",
   "version": "3.6.1"
  }
 },
 "nbformat": 4,
 "nbformat_minor": 1
}
