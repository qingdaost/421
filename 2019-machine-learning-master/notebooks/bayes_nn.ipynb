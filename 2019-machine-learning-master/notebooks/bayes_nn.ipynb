{
 "cells": [
  {
   "cell_type": "markdown",
   "metadata": {},
   "source": [
    "# Bayesian neural net stuff\n",
    "\n",
    "We're going to use Metropolis MCMC to sample from the posterior over weights in a neural network. \n",
    "\n",
    "Note that this is _instead of_ optimizing / learning the weights.\n",
    "\n",
    "There's no \"fitting\" here at all - just pure inference.\n",
    "\n",
    "It's just that (unfortunately) we can't do the required integral over all of weight space (!!), and so we're forced to approximate it. We do this by generating *a set of samples* from the posterior over weights, $P(w \\mid \\mathcal{D} )$.\n",
    "\n",
    "For a given input pattern, each such sample has a prediction to make about the output we should expect.\n",
    "Instead of attempting to 'take the best' of these, we take the whole lot: *we get a distribution* over plausible outputs."
   ]
  },
  {
   "cell_type": "markdown",
   "metadata": {},
   "source": [
    "## Setup"
   ]
  },
  {
   "cell_type": "code",
   "execution_count": 95,
   "metadata": {
    "collapsed": false
   },
   "outputs": [],
   "source": [
    "%matplotlib inline\n",
    "import matplotlib as mpl\n",
    "import numpy as np\n",
    "import matplotlib.pyplot as plt\n",
    "import numpy.random as rng\n",
    "import time\n",
    "np.set_printoptions(precision = 2, suppress = True)\n",
    "rng.seed(int(time.time())) # seed the random number generator"
   ]
  },
  {
   "cell_type": "markdown",
   "metadata": {},
   "source": [
    "It's handy to have the sigmoid (or 'logistic') function, $y= \\frac{1}{1+e^{-\\phi}}$"
   ]
  },
  {
   "cell_type": "code",
   "execution_count": 96,
   "metadata": {
    "collapsed": false
   },
   "outputs": [],
   "source": [
    "def sigmoid(M1):\n",
    "    M2 = 1/(1+np.exp(-M1))\n",
    "    return M2"
   ]
  },
  {
   "cell_type": "markdown",
   "metadata": {},
   "source": [
    "Grab some data (from a file in the local directory). My example file (used here) looks like this:"
   ]
  },
  {
   "cell_type": "raw",
   "metadata": {},
   "source": [
    "# each row is one input vector: final col is the output\n",
    " 7.71  -2.19\n",
    "-0.56  -3.32\n",
    "  :      :"
   ]
  },
  {
   "cell_type": "code",
   "execution_count": 97,
   "metadata": {
    "collapsed": false
   },
   "outputs": [],
   "source": [
    "in_file = 'testdata.txt'\n",
    "data = np.genfromtxt(in_file, comments='#', unpack=True) # nb. unpack turns rows <--> cols\n",
    "T = data[-1,:]  # the final row is the target\n",
    "X = data[:-1,:] # earlier columns are the input vectors\n",
    "num_inputs = X.shape[0]\n",
    "num_train_items = X.shape[1]"
   ]
  },
  {
   "cell_type": "markdown",
   "metadata": {},
   "source": [
    "### plotting is possible if there's 1 input dimension...\n",
    "If there's just one input dimension, and one output dimension, we can plot the curves!"
   ]
  },
  {
   "cell_type": "code",
   "execution_count": 98,
   "metadata": {
    "collapsed": false
   },
   "outputs": [],
   "source": [
    "def plot_curves(partX, partT, X, T, all_samples, final_temperature, in_file, num_hiddens):\n",
    "    # if it happens to be 1D data, paint a picture....\n",
    "    plt.clf()\n",
    "    plt.plot(np.ravel(partX),np.ravel(partT),'sb',markersize=5,alpha=0.95) # show data points too\n",
    "    \n",
    "    xrange = X.max() - X.min()\n",
    "    X1dplot = np.arange(X.min()-xrange/3,X.max()+xrange/3,(X.max()-X.min())/250)\n",
    "    X1dplot.shape  = [1,len(X1dplot)] # makes it a 1-by-n matrix\n",
    "    for theta in all_samples:\n",
    "        Ytest = calc_net_output(theta,X1dplot)\n",
    "        plt.plot(np.ravel(X1dplot),np.ravel(Ytest),'-',color=0.5*np.ones((3,),float),alpha=0.75)\n",
    "        \n",
    "    vertical_range = np.ravel(T).max() -  np.ravel(T).min()\n",
    "    plt.axis([X.min(),X.max(),np.ravel(T).min()-vertical_range/2, np.ravel(T).max()+vertical_range/2])\n",
    "    out_file = '%s_MCMC_samples_Nhids_%d_Npats_%d.png' % (in_file.rstrip('.txt'),num_hiddens,len(partT))\n",
    "    if final_temperature <= 0.01:\n",
    "        out_file = '%s_MCMC_samples_Nhids_%d_SA.png' % (in_file,num_hiddens)\n",
    "    plt.savefig(out_file)\n",
    "    print('wrote %s' % (out_file))"
   ]
  },
  {
   "cell_type": "markdown",
   "metadata": {},
   "source": [
    "## The neural network\n",
    "The neural net architecture is going to be a single hidden layer of sigmoid units, and a single output unit that is linear. All these units will include a \"bias\" input as well. I'm going to keep the bias weights separate, especially as a different prior might be appropriate for them."
   ]
  },
  {
   "cell_type": "code",
   "execution_count": 99,
   "metadata": {
    "collapsed": false
   },
   "outputs": [],
   "source": [
    "def calc_net_output(theta,X):\n",
    "    [W1,B1,W2,B2] = theta          # unpacks the parameters\n",
    "    H = sigmoid(np.dot(W1,X) + B1)    # sigmoidal hidden units\n",
    "    Y = np.dot(W2,H) + B2             # linear output unit\n",
    "    return Y"
   ]
  },
  {
   "cell_type": "markdown",
   "metadata": {},
   "source": [
    "### Set architecture and hyperparameters: we're not going to learn these - they're just priors on the weights (and bias weights), for both weights layers."
   ]
  },
  {
   "cell_type": "code",
   "execution_count": 100,
   "metadata": {
    "collapsed": false
   },
   "outputs": [],
   "source": [
    "num_hiddens = 5 # This is sufficient to set the architecture of the neural net, as there's to be just one hidden layer.\n",
    "\n",
    "# hyperparameters of the neural net model, given as \"std deviations\" - helps humans interpret them.\n",
    "sigma_noise = 0.02                # representing the observation noise\n",
    "sigma_wgtsToHidden_prior = 4.0    # width of the prior on weights \n",
    "sigma_wgtsToOutput_prior = 5.0/num_hiddens    # width of the prior on weights \n",
    "sigma_bias_prior = 1.0            # width of the prior on bias wgts\n",
    "\n",
    "# square those to get variances.\n",
    "sigma2_noise = np.power(sigma_noise,2)  \n",
    "sigma2_wgtsToHidden_prior = np.power(sigma_wgtsToHidden_prior,2)\n",
    "sigma2_wgtsToOutput_prior = np.power(sigma_wgtsToOutput_prior,2)\n",
    "sigma2_bias_prior = np.power(sigma_bias_prior,2)\n",
    "# collect them an call them \"hyperparameters\"\n",
    "hyperparameters = [sigma2_noise,sigma2_wgtsToHidden_prior,sigma2_wgtsToOutput_prior,sigma2_bias_prior]"
   ]
  },
  {
   "cell_type": "markdown",
   "metadata": {},
   "source": [
    "Next we need a method to calculate the log of the posterior (up to an additive constant at least). I pass in all the parameters, which I'm grouping together and calling $\\theta$, and all the data $(X,T)$, and all the hyperparameters. My hyperparameters are just the variances for Gaussian priors on the weights and biases - I'm assuming the means of these are all zero (no _a priori_ preference for +ve over -ve weights)."
   ]
  },
  {
   "cell_type": "code",
   "execution_count": 101,
   "metadata": {
    "collapsed": false
   },
   "outputs": [],
   "source": [
    "def calc_log_posterior(theta,X,T,hyperparameters):\n",
    "    [W1,B1,W2,B2] = theta          # unpacks the parameters\n",
    "    [sigma2_noise,sigma2_wgtsToHidden_prior,sigma2_wgtsToOutput_prior,sigma2_bias_prior] = hyperparameters\n",
    "    Y = calc_net_output(theta,X)\n",
    "    if len(T)==0: \n",
    "        log_likelihood = 0.0\n",
    "    else:\n",
    "        log_likelihood = -1.0/(2*sigma2_noise) * np.dot(T-Y, np.transpose(T-Y))\n",
    "    sum_squared_wgtsToHidden = np.sum(W1*W1)\n",
    "    sum_squared_wgtsToOutput = np.sum(W2*W2)\n",
    "    sum_squared_bias = np.sum(B1*B1) + np.sum(B2*B2)\n",
    "    log_prior =  -1.0/(2*sigma2_wgtsToHidden_prior) * sum_squared_wgtsToHidden\n",
    "    log_prior += -1.0/(2*sigma2_wgtsToOutput_prior) * sum_squared_wgtsToOutput\n",
    "    log_prior += -1.0/(2*sigma2_bias_prior) * sum_squared_bias\n",
    "    log_post = log_likelihood + log_prior # plus an unknown additive const.\n",
    "    return log_post"
   ]
  },
  {
   "cell_type": "markdown",
   "metadata": {},
   "source": [
    "## Run the Markov chain"
   ]
  },
  {
   "cell_type": "markdown",
   "metadata": {},
   "source": [
    "First we'll need a proposal distribution. This one takes no account of the (likely quite different) scales of different components, but it's a start."
   ]
  },
  {
   "cell_type": "code",
   "execution_count": 102,
   "metadata": {
    "collapsed": false
   },
   "outputs": [],
   "source": [
    "def make_proposal(theta, stddev_proposal):\n",
    "    [W1,B1,W2,B2] = theta\n",
    "    prop_W1 = W1 + rng.normal(0,stddev_proposal,size=W1.shape)  # oddly, numpy.random.normal take std dev as 2nd argument.\n",
    "    prop_B1 = B1 + rng.normal(0,stddev_proposal,size=B1.shape)\n",
    "    prop_W2 = W2 + rng.normal(0,stddev_proposal,size=W2.shape)\n",
    "    prop_B2 = B2 + rng.normal(0,stddev_proposal,size=B2.shape)\n",
    "    prop_theta = [prop_W1,prop_B1,prop_W2,prop_B2]    \n",
    "    return prop_theta"
   ]
  },
  {
   "cell_type": "markdown",
   "metadata": {},
   "source": [
    "And here is the Metropolis algorithm."
   ]
  },
  {
   "cell_type": "code",
   "execution_count": 103,
   "metadata": {
    "collapsed": false
   },
   "outputs": [],
   "source": [
    "def make_Metropolis_Samples(partX, partT, hyperparameters):\n",
    "    # Metropolis parameters\n",
    "    final_temperature = 1.0\n",
    "    num_samples = 20\n",
    "    gap_between_samples = 1000\n",
    "    sigma_proposal = 0.05     # initial width of the proposal distribution\n",
    "    num_samples_per_chain = 1\n",
    "    \n",
    "    [sigma2_noise,sigma2_wgtsToHidden_prior,sigma2_wgtsToOutput_prior,sigma2_bias_prior] = hyperparameters\n",
    "    all_samples = []\n",
    "    while (len(all_samples) < num_samples):\n",
    "        # initial weights can be chosen from the prior\n",
    "        W1 = rng.normal(0,sigma_wgtsToHidden_prior,(num_hiddens,num_inputs))\n",
    "        B1 = rng.normal(0,sigma_bias_prior,(num_hiddens,1))\n",
    "        W2 = rng.normal(0,sigma_wgtsToOutput_prior,(1,num_hiddens))\n",
    "        B2 = rng.normal(0,sigma_bias_prior,(1,1))\n",
    "        theta = [W1,B1,W2,B2]\n",
    "        log_post = calc_log_posterior(theta,partX,partT,hyperparameters)\n",
    "\n",
    "        # Metropolis \n",
    "        temperature = final_temperature # ie. I'm not implementing simulated annealing here, yet.\n",
    "        num_proposed, num_accepted, num_sampled_this_chain=0,0,0\n",
    "        while (num_sampled_this_chain < num_samples_per_chain) and (len(all_samples) < num_samples):\n",
    "            for t in range(gap_between_samples):\n",
    "                prop_theta = make_proposal(theta, sigma_proposal)\n",
    "                num_proposed += 1\n",
    "                prop_log_post = calc_log_posterior(prop_theta,partX,partT,hyperparameters)\n",
    "                #print('here is current theta:')\n",
    "                #for th in theta: print (th)\n",
    "                #print('log posterior = ',log_post)\n",
    "                #print('\\nhere is proposed theta:')\n",
    "                #for th in prop_theta: print (th)\n",
    "                #print('log posterior = ',prop_log_post)\n",
    "                #print('-------------------')\n",
    "                if (prop_log_post > log_post) or (np.exp((prop_log_post-log_post)/(temperature+0.00001)) > rng.random()): \n",
    "                    theta, log_post = prop_theta, prop_log_post\n",
    "                    num_accepted += 1\n",
    "\n",
    "            all_samples.append(theta)  \n",
    "            num_sampled_this_chain += 1\n",
    "        accept_ratio = (num_accepted/(1.0*num_proposed))\n",
    "        #print ('sigma_proposal %.3f, acceptance ratio %.3f' % (sigma_proposal, accept_ratio))\n",
    "        if   accept_ratio > 0.3: \n",
    "            sigma_proposal *= 2.0\n",
    "            print ('changing sigma_proposal to %.3f since acceptance ratio %.3f' % (sigma_proposal, accept_ratio))\n",
    "        elif accept_ratio < 0.1: \n",
    "            sigma_proposal /= 2.0\n",
    "            print ('changing sigma_proposal to %.3f since acceptance ratio %.3f' % (sigma_proposal, accept_ratio))\n",
    "    return all_samples"
   ]
  },
  {
   "cell_type": "code",
   "execution_count": 104,
   "metadata": {
    "collapsed": false
   },
   "outputs": [
    {
     "name": "stdout",
     "output_type": "stream",
     "text": [
      "wrote testdata_MCMC_samples_Nhids_5_Npats_2.png\n",
      "wrote testdata_MCMC_samples_Nhids_5_Npats_5.png\n",
      "wrote testdata_MCMC_samples_Nhids_5_Npats_10.png\n"
     ]
    },
    {
     "data": {
      "image/png": "[encoded data removed]",
      "text/plain": [
       "<matplotlib.figure.Figure at 0x4a10198>"
      ]
     },
     "metadata": {},
     "output_type": "display_data"
    }
   ],
   "source": [
    "final_temperature = 1.0\n",
    "for num_partial_data in [2, 5, 10]:\n",
    "    if num_partial_data < num_train_items:\n",
    "        partX, partT = X[:,:num_partial_data], T[:num_partial_data]\n",
    "        all_samples = make_Metropolis_Samples(partX, partT, hyperparameters)\n",
    "        if num_inputs == 1: \n",
    "            plot_curves(partX, partT, X, T, all_samples, final_temperature, in_file,  num_hiddens)"
   ]
  }
 ],
 "metadata": {
  "kernelspec": {
   "display_name": "Python 3",
   "language": "python",
   "name": "python3"
  },
  "language_info": {
   "codemirror_mode": {
    "name": "ipython",
    "version": 3
   },
   "file_extension": ".py",
   "mimetype": "text/x-python",
   "name": "python",
   "nbconvert_exporter": "python",
   "pygments_lexer": "ipython3",
   "version": "3.4.3"
  }
 },
 "nbformat": 4,
 "nbformat_minor": 0
}
